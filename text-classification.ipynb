{
 "cells": [
  {
   "cell_type": "markdown",
   "execution_count": null,
   "metadata": {},
   "source": [
    "**For a starting point 82 percent accuracy is good. I will add more data and try other models such as SVM even neural networks.**\n",
    "\n",
    "**If you like this simple kernel, please upvote.**"
   ]
  },
  {
   "cell_type": "code",
   "execution_count": 1,
   "metadata": {
    "_cell_guid": "b1076dfc-b9ad-4769-8c92-a6c4dae69d19",
    "_uuid": "8f2839f25d086af736a60e9eeb907d3b93b6e0e5"
   },
   "outputs": [
    {
     "name": "stdout",
     "output_type": "stream",
     "text": [
      "/kaggle/input/eksi-sozluk-entries/total.csv\n"
     ]
    }
   ],
   "source": [
    "# This Python 3 environment comes with many helpful analytics libraries installed\n",
    "# It is defined by the kaggle/python Docker image: https://github.com/kaggle/docker-python\n",
    "# For example, here's several helpful packages to load\n",
    "\n",
    "import numpy as np # linear algebra\n",
    "import pandas as pd # data processing, CSV file I/O (e.g. pd.read_csv)\n",
    "\n",
    "# Input data files are available in the read-only \"../input/\" directory\n",
    "# For example, running this (by clicking run or pressing Shift+Enter) will list all files under the input directory\n",
    "\n",
    "import os\n",
    "for dirname, _, filenames in os.walk('/kaggle/input'):\n",
    "    for filename in filenames:\n",
    "        print(os.path.join(dirname, filename))\n",
    "\n",
    "# You can write up to 5GB to the current directory (/kaggle/working/) that gets preserved as output when you create a version using \"Save & Run All\" \n",
    "# You can also write temporary files to /kaggle/temp/, but they won't be saved outside of the current session"
   ]
  },
  {
   "cell_type": "code",
   "execution_count": 2,
   "metadata": {
    "_cell_guid": "79c7e3d0-c299-4dcb-8224-4455121ee9b0",
    "_uuid": "d629ff2d2480ee46fbb7e2d37f6b5fab8052498a"
   },
   "outputs": [
    {
     "data": {
      "text/html": [
       "<div>\n",
       "<style scoped>\n",
       "    .dataframe tbody tr th:only-of-type {\n",
       "        vertical-align: middle;\n",
       "    }\n",
       "\n",
       "    .dataframe tbody tr th {\n",
       "        vertical-align: top;\n",
       "    }\n",
       "\n",
       "    .dataframe thead th {\n",
       "        text-align: right;\n",
       "    }\n",
       "</style>\n",
       "<table border=\"1\" class=\"dataframe\">\n",
       "  <thead>\n",
       "    <tr style=\"text-align: right;\">\n",
       "      <th></th>\n",
       "      <th>author</th>\n",
       "      <th>date</th>\n",
       "      <th>label</th>\n",
       "      <th>text</th>\n",
       "    </tr>\n",
       "  </thead>\n",
       "  <tbody>\n",
       "    <tr>\n",
       "      <th>0</th>\n",
       "      <td>men kucik chomichmen</td>\n",
       "      <td>12.12.2014 11:12</td>\n",
       "      <td>Economy</td>\n",
       "      <td>finansal sektorun borclarini odeyememesi ile, ...</td>\n",
       "    </tr>\n",
       "    <tr>\n",
       "      <th>1</th>\n",
       "      <td>kkn</td>\n",
       "      <td>12.12.2014 11:22</td>\n",
       "      <td>Economy</td>\n",
       "      <td>2020'ye kalmayacak krizdir.</td>\n",
       "    </tr>\n",
       "    <tr>\n",
       "      <th>2</th>\n",
       "      <td>effendy75</td>\n",
       "      <td>30.10.2017 18:41</td>\n",
       "      <td>Economy</td>\n",
       "      <td>en kötü senaryo gerçekleşirse sıradan vatandaş...</td>\n",
       "    </tr>\n",
       "    <tr>\n",
       "      <th>3</th>\n",
       "      <td>fech</td>\n",
       "      <td>01.04.2018 18:36</td>\n",
       "      <td>Economy</td>\n",
       "      <td>welcome to turkish immigration crisis</td>\n",
       "    </tr>\n",
       "    <tr>\n",
       "      <th>4</th>\n",
       "      <td>redthepublic</td>\n",
       "      <td>30.06.2018 10:28 ~ 07.05.2020 10:03</td>\n",
       "      <td>Economy</td>\n",
       "      <td>ardaşık krizlerimizden bir başkası. baktım 201...</td>\n",
       "    </tr>\n",
       "  </tbody>\n",
       "</table>\n",
       "</div>"
      ],
      "text/plain": [
       "                 author                                 date    label  \\\n",
       "0  men kucik chomichmen                     12.12.2014 11:12  Economy   \n",
       "1                   kkn                     12.12.2014 11:22  Economy   \n",
       "2             effendy75                     30.10.2017 18:41  Economy   \n",
       "3                  fech                     01.04.2018 18:36  Economy   \n",
       "4          redthepublic  30.06.2018 10:28 ~ 07.05.2020 10:03  Economy   \n",
       "\n",
       "                                                text  \n",
       "0  finansal sektorun borclarini odeyememesi ile, ...  \n",
       "1                        2020'ye kalmayacak krizdir.  \n",
       "2  en kötü senaryo gerçekleşirse sıradan vatandaş...  \n",
       "3              welcome to turkish immigration crisis  \n",
       "4  ardaşık krizlerimizden bir başkası. baktım 201...  "
      ]
     },
     "execution_count": 2,
     "metadata": {},
     "output_type": "execute_result"
    }
   ],
   "source": [
    "df = pd.read_csv('/kaggle/input/eksi-sozluk-entries/total.csv')\n",
    "df.head()"
   ]
  },
  {
   "cell_type": "code",
   "execution_count": 3,
   "metadata": {},
   "outputs": [
    {
     "data": {
      "text/plain": [
       "Politics         2291\n",
       "Relationships    1967\n",
       "Education        1500\n",
       "Economy          1432\n",
       "Sports           1360\n",
       "Name: label, dtype: int64"
      ]
     },
     "execution_count": 3,
     "metadata": {},
     "output_type": "execute_result"
    }
   ],
   "source": [
    "df.label.value_counts()"
   ]
  },
  {
   "cell_type": "code",
   "execution_count": 4,
   "metadata": {},
   "outputs": [
    {
     "data": {
      "text/plain": [
       "<matplotlib.axes._subplots.AxesSubplot at 0x7f8acbb07990>"
      ]
     },
     "execution_count": 4,
     "metadata": {},
     "output_type": "execute_result"
    },
    {
     "data": {
      "image/png": "[encoded data removed]",
      "text/plain": [
       "<Figure size 432x288 with 1 Axes>"
      ]
     },
     "metadata": {
      "needs_background": "light"
     },
     "output_type": "display_data"
    }
   ],
   "source": [
    "import seaborn as sns\n",
    "\n",
    "sns.countplot(df.label)"
   ]
  },
  {
   "cell_type": "markdown",
   "execution_count": null,
   "metadata": {},
   "source": [
    "## DATA CLEANING"
   ]
  },
  {
   "cell_type": "code",
   "execution_count": 5,
   "metadata": {},
   "outputs": [],
   "source": [
    "df['text'] = df['text'].str.replace(\"\\r\", \" \")\n",
    "df['text'] = df['text'].str.replace(\"\\n\", \" \")\n",
    "df['text'] = df['text'].str.replace(\"    \", \" \")\n",
    "df['text'] = df['text'].str.replace('\"', '')\n",
    "df['text'] = df['text'].str.replace('\"', '')\n",
    "\n",
    "punctuation_signs = list(\")(?:!.,;\")\n",
    "\n",
    "for punct_sign in punctuation_signs:\n",
    "    df['text'] = df['text'].str.replace(punct_sign, ' ')"
   ]
  },
  {
   "cell_type": "code",
   "execution_count": 6,
   "metadata": {},
   "outputs": [
    {
     "data": {
      "text/plain": [
       "\"finansal sektorun borclarini odeyememesi ile  enflasyonun da cok yukarilari ucmasi ile baslayacak krizdir  rant ekonomisinin sonu olacaktir  akp'nin de basimizdan gitmesi ile son bulacaktir \""
      ]
     },
     "execution_count": 6,
     "metadata": {},
     "output_type": "execute_result"
    }
   ],
   "source": [
    "df['text'][0]"
   ]
  },
  {
   "cell_type": "code",
   "execution_count": 7,
   "metadata": {},
   "outputs": [],
   "source": [
    "import nltk\n",
    "from nltk.corpus import stopwords\n",
    "STOP_WORDS = list(stopwords.words('turkish'))"
   ]
  },
  {
   "cell_type": "code",
   "execution_count": 8,
   "metadata": {},
   "outputs": [],
   "source": [
    "for stop_word in STOP_WORDS:\n",
    "    regex_stopword = r\"\\b\" + stop_word + r\"\\b\"\n",
    "    df['text'] = df['text'].str.replace(regex_stopword, '')"
   ]
  },
  {
   "cell_type": "code",
   "execution_count": 9,
   "metadata": {},
   "outputs": [],
   "source": [
    "from sklearn.model_selection import train_test_split\n",
    "from sklearn.feature_extraction.text import TfidfVectorizer"
   ]
  },
  {
   "cell_type": "code",
   "execution_count": 10,
   "metadata": {},
   "outputs": [
    {
     "data": {
      "text/plain": [
       "3    2291\n",
       "4    1967\n",
       "2    1500\n",
       "1    1432\n",
       "5    1360\n",
       "Name: label, dtype: int64"
      ]
     },
     "execution_count": 10,
     "metadata": {},
     "output_type": "execute_result"
    }
   ],
   "source": [
    "labels = {\n",
    "    'Economy': 1,\n",
    "    'Education': 2,\n",
    "    'Politics':3,\n",
    "    'Relationships':4,\n",
    "    'Sports':5\n",
    "}\n",
    "\n",
    "df['label'] = df['label'].map(labels)\n",
    "\n",
    "df['label'].value_counts()"
   ]
  },
  {
   "cell_type": "code",
   "execution_count": 11,
   "metadata": {},
   "outputs": [],
   "source": [
    "X_train, X_test, y_train, y_test = train_test_split(df['text'], \n",
    "                                                    df['label'], \n",
    "                                                    test_size=0.10, \n",
    "                                                    random_state=8)"
   ]
  },
  {
   "cell_type": "code",
   "execution_count": 12,
   "metadata": {},
   "outputs": [],
   "source": [
    "ngram_range = (1,2)\n",
    "min_df = 10\n",
    "max_df = 1.\n",
    "max_features = 1000"
   ]
  },
  {
   "cell_type": "code",
   "execution_count": 13,
   "metadata": {},
   "outputs": [
    {
     "name": "stdout",
     "output_type": "stream",
     "text": [
      "(7695, 1000)\n",
      "(855, 1000)\n"
     ]
    }
   ],
   "source": [
    "tfidf = TfidfVectorizer(encoding='utf-8',\n",
    "                        ngram_range=ngram_range,\n",
    "                        stop_words=None,\n",
    "                        lowercase=False,\n",
    "                        max_df=max_df,\n",
    "                        min_df=min_df,\n",
    "                        max_features=max_features,\n",
    "                        norm='l2',\n",
    "                        sublinear_tf=True)\n",
    "                        \n",
    "features_train = tfidf.fit_transform(X_train).toarray()\n",
    "labels_train = y_train\n",
    "print(features_train.shape)\n",
    "\n",
    "features_test = tfidf.transform(X_test).toarray()\n",
    "labels_test = y_test\n",
    "print(features_test.shape)"
   ]
  },
  {
   "cell_type": "code",
   "execution_count": 14,
   "metadata": {},
   "outputs": [
    {
     "name": "stdout",
     "output_type": "stream",
     "text": [
      "# 'Economy' category:\n",
      "  . Most correlated unigrams:\n",
      ". piyasa\n",
      ". kriz\n",
      ". tl\n",
      ". dolar\n",
      ". bitcoin\n",
      "\n",
      "# 'Education' category:\n",
      "  . Most correlated unigrams:\n",
      ". üniversitesi\n",
      ". sınav\n",
      ". üniversite\n",
      ". okul\n",
      ". hukuk\n",
      "\n",
      "# 'Politics' category:\n",
      "  . Most correlated unigrams:\n",
      ". oy\n",
      ". belediye\n",
      ". akp\n",
      ". chp\n",
      ". parti\n",
      "\n",
      "# 'Relationships' category:\n",
      "  . Most correlated unigrams:\n",
      ". erkek\n",
      ". insandır\n",
      ". aşık\n",
      ". boşanmış\n",
      ". kadın\n",
      "\n",
      "# 'Sports' category:\n",
      "  . Most correlated unigrams:\n",
      ". futbol\n",
      ". gol\n",
      ". nba\n",
      ". spor\n",
      ". takım\n",
      "\n"
     ]
    }
   ],
   "source": [
    "from sklearn.feature_selection import chi2\n",
    "import numpy as np\n",
    "\n",
    "for label, category_id in sorted(labels.items()):\n",
    "    features_chi2 = chi2(features_train, labels_train == category_id)\n",
    "    indices = np.argsort(features_chi2[0])\n",
    "    feature_names = np.array(tfidf.get_feature_names())[indices]\n",
    "    unigrams = [v for v in feature_names if len(v.split(' ')) == 1]\n",
    "    bigrams = [v for v in feature_names if len(v.split(' ')) == 2]\n",
    "    print(\"# '{}' category:\".format(label))\n",
    "    print(\"  . Most correlated unigrams:\\n. {}\".format('\\n. '.join(unigrams[-5:])))\n",
    "    print(\"\")"
   ]
  },
  {
   "cell_type": "code",
   "execution_count": 15,
   "metadata": {},
   "outputs": [],
   "source": [
    "from sklearn.naive_bayes import MultinomialNB\n",
    "from sklearn.metrics import classification_report, confusion_matrix, accuracy_score\n",
    "from sklearn.model_selection import ShuffleSplit"
   ]
  },
  {
   "cell_type": "code",
   "execution_count": 16,
   "metadata": {},
   "outputs": [
    {
     "data": {
      "text/plain": [
       "MultinomialNB()"
      ]
     },
     "execution_count": 16,
     "metadata": {},
     "output_type": "execute_result"
    }
   ],
   "source": [
    "mnbc = MultinomialNB()\n",
    "mnbc"
   ]
  },
  {
   "cell_type": "code",
   "execution_count": 17,
   "metadata": {},
   "outputs": [],
   "source": [
    "clf = MultinomialNB()"
   ]
  },
  {
   "cell_type": "code",
   "execution_count": 18,
   "metadata": {},
   "outputs": [
    {
     "data": {
      "text/plain": [
       "MultinomialNB()"
      ]
     },
     "execution_count": 18,
     "metadata": {},
     "output_type": "execute_result"
    }
   ],
   "source": [
    "mnbc.fit(features_train, labels_train)"
   ]
  },
  {
   "cell_type": "code",
   "execution_count": 19,
   "metadata": {},
   "outputs": [],
   "source": [
    "mnbc_pred = mnbc.predict(features_test)"
   ]
  },
  {
   "cell_type": "code",
   "execution_count": 20,
   "metadata": {},
   "outputs": [
    {
     "name": "stdout",
     "output_type": "stream",
     "text": [
      "The training accuracy is: \n",
      "0.8088369070825211\n"
     ]
    }
   ],
   "source": [
    "print(\"The training accuracy is: \")\n",
    "print(accuracy_score(labels_train, mnbc.predict(features_train)))"
   ]
  },
  {
   "cell_type": "code",
   "execution_count": 21,
   "metadata": {},
   "outputs": [
    {
     "name": "stdout",
     "output_type": "stream",
     "text": [
      "The test accuracy is: \n",
      "0.7812865497076024\n"
     ]
    }
   ],
   "source": [
    "print(\"The test accuracy is: \")\n",
    "print(accuracy_score(labels_test, mnbc_pred))"
   ]
  },
  {
   "cell_type": "code",
   "execution_count": 22,
   "metadata": {},
   "outputs": [
    {
     "name": "stdout",
     "output_type": "stream",
     "text": [
      "Classification report\n",
      "              precision    recall  f1-score   support\n",
      "\n",
      "           1       0.90      0.61      0.73       154\n",
      "           2       0.89      0.76      0.82       144\n",
      "           3       0.69      0.91      0.79       231\n",
      "           4       0.72      0.82      0.77       196\n",
      "           5       0.94      0.72      0.82       130\n",
      "\n",
      "    accuracy                           0.78       855\n",
      "   macro avg       0.83      0.76      0.78       855\n",
      "weighted avg       0.81      0.78      0.78       855\n",
      "\n"
     ]
    }
   ],
   "source": [
    "print(\"Classification report\")\n",
    "print(classification_report(labels_test,mnbc_pred))"
   ]
  },
  {
   "cell_type": "code",
   "execution_count": 23,
   "metadata": {},
   "outputs": [
    {
     "data": {
      "image/png": "[encoded data removed]",
      "text/plain": [
       "<Figure size 921.6x432 with 2 Axes>"
      ]
     },
     "metadata": {
      "needs_background": "light"
     },
     "output_type": "display_data"
    }
   ],
   "source": [
    "import matplotlib.pyplot as plt\n",
    "\n",
    "aux_df = df[['label']].drop_duplicates().sort_values('label')\n",
    "conf_matrix = confusion_matrix(labels_test, mnbc_pred)\n",
    "plt.figure(figsize=(12.8,6))\n",
    "sns.heatmap(conf_matrix, \n",
    "            annot=True,\n",
    "            xticklabels=aux_df['label'].values, \n",
    "            yticklabels=aux_df['label'].values,\n",
    "            cmap=\"Blues\")\n",
    "plt.ylabel('Predicted')\n",
    "plt.xlabel('Actual')\n",
    "plt.title('Confusion matrix')\n",
    "plt.show()"
   ]
  },
  {
   "cell_type": "code",
   "execution_count": 24,
   "metadata": {},
   "outputs": [
    {
     "data": {
      "text/plain": [
       "3    231\n",
       "4    196\n",
       "1    154\n",
       "2    144\n",
       "5    130\n",
       "Name: label, dtype: int64"
      ]
     },
     "execution_count": 24,
     "metadata": {},
     "output_type": "execute_result"
    }
   ],
   "source": [
    "labels_test.value_counts()"
   ]
  },
  {
   "cell_type": "code",
   "execution_count": 25,
   "metadata": {},
   "outputs": [
    {
     "data": {
      "text/plain": [
       "(array([1, 2, 3, 4, 5]), array([104, 123, 304, 224, 100]))"
      ]
     },
     "execution_count": 25,
     "metadata": {},
     "output_type": "execute_result"
    }
   ],
   "source": [
    "np.unique(mnbc_pred, return_counts=True)"
   ]
  },
  {
   "cell_type": "code",
   "execution_count": 26,
   "metadata": {},
   "outputs": [],
   "source": [
    "labels_keys = list(labels.keys())"
   ]
  },
  {
   "cell_type": "markdown",
   "execution_count": null,
   "metadata": {},
   "source": [
    "## TESTING MODEL"
   ]
  },
  {
   "cell_type": "code",
   "execution_count": 27,
   "metadata": {},
   "outputs": [
    {
     "name": "stdout",
     "output_type": "stream",
     "text": [
      "Doların bu kadar yükselmesi bizim için kötü oldu. Her geçen gün bilgisayar fiyatları artıyor. ----->> Economy\n",
      "Sınavın kolay olması üniversite sıralamalarını çok değiştirdi. Öğrenciler ne yapacaklarını şaşırdı. ----->> Education\n",
      "Derbinin kazananı Beşiktaş oldu ve ligi 3.sırada bitirdi. ----->> Sports\n"
     ]
    }
   ],
   "source": [
    "my_tweets = np.array([\"Doların bu kadar yükselmesi bizim için kötü oldu. Her geçen gün bilgisayar fiyatları artıyor.\",\n",
    "                    \"Sınavın kolay olması üniversite sıralamalarını çok değiştirdi. Öğrenciler ne yapacaklarını şaşırdı.\",\n",
    "                     \"Derbinin kazananı Beşiktaş oldu ve ligi 3.sırada bitirdi.\"])\n",
    "\n",
    "tweet_features = tfidf.transform(my_tweets)\n",
    "\n",
    "prediction = mnbc.predict(tweet_features)\n",
    "\n",
    "for index, tweet in enumerate(my_tweets):\n",
    "    category = labels_keys[prediction[index] - 1]\n",
    "    cur_tweet = my_tweets[index]\n",
    "    \n",
    "\n",
    "\n",
    "    print(\"{} ----->> {}\".format(cur_tweet, category))"
   ]
  },
  {
   "cell_type": "code",
   "execution_count": 28,
   "metadata": {},
   "outputs": [
    {
     "data": {
      "text/plain": [
       "['Economy', 'Education', 'Politics', 'Relationships', 'Sports']"
      ]
     },
     "execution_count": 28,
     "metadata": {},
     "output_type": "execute_result"
    }
   ],
   "source": [
    "list(labels.keys())"
   ]
  }
 ],
 "metadata": {
  "kernelspec": {
   "display_name": "Python 3",
   "language": "python",
   "name": "python3"
  },
  "language_info": {
   "codemirror_mode": {
    "name": "ipython",
    "version": 3
   },
   "file_extension": ".py",
   "mimetype": "text/x-python",
   "name": "python",
   "nbconvert_exporter": "python",
   "pygments_lexer": "ipython3",
   "version": "3.7.6"
  }
 },
 "nbformat": 4,
 "nbformat_minor": 4
}
